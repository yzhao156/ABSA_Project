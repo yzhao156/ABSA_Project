{
 "cells": [
  {
   "cell_type": "code",
   "execution_count": 71,
   "id": "fdc0631f",
   "metadata": {
    "ExecuteTime": {
     "end_time": "2021-11-19T02:28:16.255046Z",
     "start_time": "2021-11-19T02:28:16.225733Z"
    }
   },
   "outputs": [],
   "source": [
    "import pandas as pd\n",
    "import numpy as np\n",
    "from sklearn.model_selection import train_test_split"
   ]
  },
  {
   "cell_type": "code",
   "execution_count": 72,
   "id": "22a1eed8",
   "metadata": {
    "ExecuteTime": {
     "end_time": "2021-11-19T02:28:16.777421Z",
     "start_time": "2021-11-19T02:28:16.654883Z"
    }
   },
   "outputs": [],
   "source": [
    "df = pd.read_csv(\"covid_dataset.csv\")"
   ]
  },
  {
   "cell_type": "code",
   "execution_count": 73,
   "id": "da960954",
   "metadata": {
    "ExecuteTime": {
     "end_time": "2021-11-19T02:28:16.800250Z",
     "start_time": "2021-11-19T02:28:16.784127Z"
    }
   },
   "outputs": [
    {
     "data": {
      "text/plain": [
       "Index(['Unnamed: 0', 'id', 'text', 'politics', 'economy', 'foreign', 'culture',\n",
       "       'situation', 'measures', 'racism', 'overall'],\n",
       "      dtype='object')"
      ]
     },
     "execution_count": 73,
     "metadata": {},
     "output_type": "execute_result"
    }
   ],
   "source": [
    "df.columns"
   ]
  },
  {
   "cell_type": "code",
   "execution_count": 74,
   "id": "2472964e",
   "metadata": {
    "ExecuteTime": {
     "end_time": "2021-11-19T02:28:16.858729Z",
     "start_time": "2021-11-19T02:28:16.839870Z"
    }
   },
   "outputs": [],
   "source": [
    "df = df.drop(['Unnamed: 0'], axis=1)"
   ]
  },
  {
   "cell_type": "code",
   "execution_count": 75,
   "id": "8f65cfb3",
   "metadata": {
    "ExecuteTime": {
     "end_time": "2021-11-19T02:28:16.932606Z",
     "start_time": "2021-11-19T02:28:16.912389Z"
    }
   },
   "outputs": [
    {
     "data": {
      "text/html": [
       "<div>\n",
       "<style scoped>\n",
       "    .dataframe tbody tr th:only-of-type {\n",
       "        vertical-align: middle;\n",
       "    }\n",
       "\n",
       "    .dataframe tbody tr th {\n",
       "        vertical-align: top;\n",
       "    }\n",
       "\n",
       "    .dataframe thead th {\n",
       "        text-align: right;\n",
       "    }\n",
       "</style>\n",
       "<table border=\"1\" class=\"dataframe\">\n",
       "  <thead>\n",
       "    <tr style=\"text-align: right;\">\n",
       "      <th></th>\n",
       "      <th>id</th>\n",
       "      <th>text</th>\n",
       "      <th>politics</th>\n",
       "      <th>economy</th>\n",
       "      <th>foreign</th>\n",
       "      <th>culture</th>\n",
       "      <th>situation</th>\n",
       "      <th>measures</th>\n",
       "      <th>racism</th>\n",
       "      <th>overall</th>\n",
       "    </tr>\n",
       "  </thead>\n",
       "  <tbody>\n",
       "    <tr>\n",
       "      <th>0</th>\n",
       "      <td>1235951163427688448</td>\n",
       "      <td>\"Every time we intubate a patient, we have no ...</td>\n",
       "      <td>0</td>\n",
       "      <td>0</td>\n",
       "      <td>0</td>\n",
       "      <td>0</td>\n",
       "      <td>0</td>\n",
       "      <td>3</td>\n",
       "      <td>0</td>\n",
       "      <td>3</td>\n",
       "    </tr>\n",
       "    <tr>\n",
       "      <th>1</th>\n",
       "      <td>1220784346983911424</td>\n",
       "      <td>\"In 2003, we built Xiaotangshan Hospital in 7 ...</td>\n",
       "      <td>0</td>\n",
       "      <td>0</td>\n",
       "      <td>0</td>\n",
       "      <td>0</td>\n",
       "      <td>0</td>\n",
       "      <td>3</td>\n",
       "      <td>0</td>\n",
       "      <td>3</td>\n",
       "    </tr>\n",
       "    <tr>\n",
       "      <th>2</th>\n",
       "      <td>1224530700965015552</td>\n",
       "      <td>\"Our nations should never allow China intrinsi...</td>\n",
       "      <td>0</td>\n",
       "      <td>0</td>\n",
       "      <td>0</td>\n",
       "      <td>0</td>\n",
       "      <td>0</td>\n",
       "      <td>0</td>\n",
       "      <td>0</td>\n",
       "      <td>1</td>\n",
       "    </tr>\n",
       "    <tr>\n",
       "      <th>3</th>\n",
       "      <td>1236593587908947968</td>\n",
       "      <td>\"He's not dead. His hands and feet were still ...</td>\n",
       "      <td>0</td>\n",
       "      <td>0</td>\n",
       "      <td>0</td>\n",
       "      <td>0</td>\n",
       "      <td>1</td>\n",
       "      <td>0</td>\n",
       "      <td>0</td>\n",
       "      <td>1</td>\n",
       "    </tr>\n",
       "    <tr>\n",
       "      <th>4</th>\n",
       "      <td>1230198133893799936</td>\n",
       "      <td>\"....disregarding the facts and becoming a par...</td>\n",
       "      <td>0</td>\n",
       "      <td>0</td>\n",
       "      <td>0</td>\n",
       "      <td>0</td>\n",
       "      <td>0</td>\n",
       "      <td>0</td>\n",
       "      <td>0</td>\n",
       "      <td>2</td>\n",
       "    </tr>\n",
       "  </tbody>\n",
       "</table>\n",
       "</div>"
      ],
      "text/plain": [
       "                    id                                               text  \\\n",
       "0  1235951163427688448  \"Every time we intubate a patient, we have no ...   \n",
       "1  1220784346983911424  \"In 2003, we built Xiaotangshan Hospital in 7 ...   \n",
       "2  1224530700965015552  \"Our nations should never allow China intrinsi...   \n",
       "3  1236593587908947968  \"He's not dead. His hands and feet were still ...   \n",
       "4  1230198133893799936  \"....disregarding the facts and becoming a par...   \n",
       "\n",
       "   politics  economy  foreign  culture  situation  measures  racism  overall  \n",
       "0         0        0        0        0          0         3       0        3  \n",
       "1         0        0        0        0          0         3       0        3  \n",
       "2         0        0        0        0          0         0       0        1  \n",
       "3         0        0        0        0          1         0       0        1  \n",
       "4         0        0        0        0          0         0       0        2  "
      ]
     },
     "execution_count": 75,
     "metadata": {},
     "output_type": "execute_result"
    }
   ],
   "source": [
    "df.head()"
   ]
  },
  {
   "cell_type": "code",
   "execution_count": 76,
   "id": "dd2e68ef",
   "metadata": {
    "ExecuteTime": {
     "end_time": "2021-11-19T02:28:17.085048Z",
     "start_time": "2021-11-19T02:28:17.081030Z"
    }
   },
   "outputs": [],
   "source": [
    "aspects = ['politics', 'economy', 'foreign', 'culture','situation', 'measures', 'racism', 'overall']\n",
    "attribute_dict = {0:\"unrelated\", 1:\"negative\", 2:\"neutral\", 3:\"positive\"}"
   ]
  },
  {
   "cell_type": "code",
   "execution_count": null,
   "id": "73ded3b9",
   "metadata": {},
   "outputs": [],
   "source": []
  },
  {
   "cell_type": "code",
   "execution_count": 77,
   "id": "aea4255a",
   "metadata": {
    "ExecuteTime": {
     "end_time": "2021-11-19T02:28:17.219875Z",
     "start_time": "2021-11-19T02:28:17.208370Z"
    }
   },
   "outputs": [],
   "source": [
    "df_out = pd.DataFrame(columns=['id', 'attributes', 'aspect', 'text'])"
   ]
  },
  {
   "cell_type": "code",
   "execution_count": 78,
   "id": "186717dd",
   "metadata": {
    "ExecuteTime": {
     "end_time": "2021-11-19T02:28:17.260698Z",
     "start_time": "2021-11-19T02:28:17.253246Z"
    }
   },
   "outputs": [
    {
     "data": {
      "text/html": [
       "<div>\n",
       "<style scoped>\n",
       "    .dataframe tbody tr th:only-of-type {\n",
       "        vertical-align: middle;\n",
       "    }\n",
       "\n",
       "    .dataframe tbody tr th {\n",
       "        vertical-align: top;\n",
       "    }\n",
       "\n",
       "    .dataframe thead th {\n",
       "        text-align: right;\n",
       "    }\n",
       "</style>\n",
       "<table border=\"1\" class=\"dataframe\">\n",
       "  <thead>\n",
       "    <tr style=\"text-align: right;\">\n",
       "      <th></th>\n",
       "      <th>id</th>\n",
       "      <th>attributes</th>\n",
       "      <th>aspect</th>\n",
       "      <th>text</th>\n",
       "    </tr>\n",
       "  </thead>\n",
       "  <tbody>\n",
       "  </tbody>\n",
       "</table>\n",
       "</div>"
      ],
      "text/plain": [
       "Empty DataFrame\n",
       "Columns: [id, attributes, aspect, text]\n",
       "Index: []"
      ]
     },
     "execution_count": 78,
     "metadata": {},
     "output_type": "execute_result"
    }
   ],
   "source": [
    "df_out"
   ]
  },
  {
   "cell_type": "code",
   "execution_count": null,
   "id": "b87afe82",
   "metadata": {
    "ExecuteTime": {
     "end_time": "2021-11-18T21:01:58.245615Z",
     "start_time": "2021-11-18T21:01:58.242437Z"
    }
   },
   "outputs": [],
   "source": []
  },
  {
   "cell_type": "code",
   "execution_count": 79,
   "id": "d703eb2a",
   "metadata": {
    "ExecuteTime": {
     "end_time": "2021-11-19T02:28:20.345517Z",
     "start_time": "2021-11-19T02:28:20.332528Z"
    },
    "scrolled": true
   },
   "outputs": [
    {
     "name": "stdout",
     "output_type": "stream",
     "text": [
      "id                                         1235951163427688448\n",
      "text         \"Every time we intubate a patient, we have no ...\n",
      "politics                                                     0\n",
      "economy                                                      0\n",
      "foreign                                                      0\n",
      "culture                                                      0\n",
      "situation                                                    0\n",
      "measures                                                     3\n",
      "racism                                                       0\n",
      "overall                                                      3\n",
      "Name: 0, dtype: object\n"
     ]
    }
   ],
   "source": [
    "for row in df.iterrows(): \n",
    "    print(row[1])\n",
    "    break"
   ]
  },
  {
   "cell_type": "code",
   "execution_count": 80,
   "id": "90cdc00f",
   "metadata": {
    "ExecuteTime": {
     "end_time": "2021-11-19T02:28:22.017342Z",
     "start_time": "2021-11-19T02:28:22.004241Z"
    }
   },
   "outputs": [
    {
     "data": {
      "text/plain": [
       "{'politics': 2,\n",
       " 'economy': 3,\n",
       " 'foreign': 4,\n",
       " 'culture': 5,\n",
       " 'situation': 6,\n",
       " 'measures': 7,\n",
       " 'racism': 8,\n",
       " 'overall': 9}"
      ]
     },
     "execution_count": 80,
     "metadata": {},
     "output_type": "execute_result"
    }
   ],
   "source": [
    "aspects = ['politics', 'economy', 'foreign', 'culture','situation', 'measures', 'racism', 'overall']\n",
    "aspects_idx = [2,3,4,5,6,7,8,9]\n",
    "aspect_idx_dict = dict(zip(aspects,aspects_idx))\n",
    "aspect_idx_dict\n"
   ]
  },
  {
   "cell_type": "code",
   "execution_count": 81,
   "id": "88910587",
   "metadata": {
    "ExecuteTime": {
     "end_time": "2021-11-19T02:28:22.213348Z",
     "start_time": "2021-11-19T02:28:22.197468Z"
    }
   },
   "outputs": [
    {
     "name": "stdout",
     "output_type": "stream",
     "text": [
      "{'id': 1235951163427688448, 'attributes': 'unrelated', 'aspect': 'politics', 'text': '\"Every time we intubate a patient, we have no option of failure.\"\\n\\nMeet the intubation team in Wuhan who have a high risk of being infected but still spare no efforts to save patients\\' lives from #COVID19 https://t.co/J8yRci7Pxw'}\n",
      "{'id': 1235951163427688448, 'attributes': 'unrelated', 'aspect': 'economy', 'text': '\"Every time we intubate a patient, we have no option of failure.\"\\n\\nMeet the intubation team in Wuhan who have a high risk of being infected but still spare no efforts to save patients\\' lives from #COVID19 https://t.co/J8yRci7Pxw'}\n",
      "{'id': 1235951163427688448, 'attributes': 'unrelated', 'aspect': 'foreign', 'text': '\"Every time we intubate a patient, we have no option of failure.\"\\n\\nMeet the intubation team in Wuhan who have a high risk of being infected but still spare no efforts to save patients\\' lives from #COVID19 https://t.co/J8yRci7Pxw'}\n",
      "{'id': 1235951163427688448, 'attributes': 'unrelated', 'aspect': 'culture', 'text': '\"Every time we intubate a patient, we have no option of failure.\"\\n\\nMeet the intubation team in Wuhan who have a high risk of being infected but still spare no efforts to save patients\\' lives from #COVID19 https://t.co/J8yRci7Pxw'}\n",
      "{'id': 1235951163427688448, 'attributes': 'unrelated', 'aspect': 'situation', 'text': '\"Every time we intubate a patient, we have no option of failure.\"\\n\\nMeet the intubation team in Wuhan who have a high risk of being infected but still spare no efforts to save patients\\' lives from #COVID19 https://t.co/J8yRci7Pxw'}\n",
      "{'id': 1235951163427688448, 'attributes': 'positive', 'aspect': 'measures', 'text': '\"Every time we intubate a patient, we have no option of failure.\"\\n\\nMeet the intubation team in Wuhan who have a high risk of being infected but still spare no efforts to save patients\\' lives from #COVID19 https://t.co/J8yRci7Pxw'}\n",
      "{'id': 1235951163427688448, 'attributes': 'unrelated', 'aspect': 'racism', 'text': '\"Every time we intubate a patient, we have no option of failure.\"\\n\\nMeet the intubation team in Wuhan who have a high risk of being infected but still spare no efforts to save patients\\' lives from #COVID19 https://t.co/J8yRci7Pxw'}\n",
      "{'id': 1235951163427688448, 'attributes': 'positive', 'aspect': 'overall', 'text': '\"Every time we intubate a patient, we have no option of failure.\"\\n\\nMeet the intubation team in Wuhan who have a high risk of being infected but still spare no efforts to save patients\\' lives from #COVID19 https://t.co/J8yRci7Pxw'}\n"
     ]
    }
   ],
   "source": [
    "for row in df.iterrows(): \n",
    "    for aspect in aspects:\n",
    "        tmp_dict = {}\n",
    "        tmp_dict['id'] = row[1][0]\n",
    "        tmp_dict['attributes'] = attribute_dict[row[1][aspect_idx_dict[aspect]]]\n",
    "        tmp_dict['aspect'] = aspect \n",
    "        tmp_dict['text'] = row[1][1]\n",
    "        print(tmp_dict)\n",
    "    break"
   ]
  },
  {
   "cell_type": "code",
   "execution_count": null,
   "id": "41e4d2cd",
   "metadata": {
    "ExecuteTime": {
     "end_time": "2021-11-18T21:16:12.185858Z",
     "start_time": "2021-11-18T21:16:10.752461Z"
    }
   },
   "outputs": [],
   "source": []
  },
  {
   "cell_type": "code",
   "execution_count": 82,
   "id": "c7cd3ee2",
   "metadata": {
    "ExecuteTime": {
     "end_time": "2021-11-19T02:28:25.816687Z",
     "start_time": "2021-11-19T02:28:25.797632Z"
    }
   },
   "outputs": [
    {
     "data": {
      "text/plain": [
       "((4770, 10), (265, 10), (266, 10))"
      ]
     },
     "execution_count": 82,
     "metadata": {},
     "output_type": "execute_result"
    }
   ],
   "source": [
    "train, dev_test = train_test_split(df, test_size=0.1)\n",
    "dev, ttest = train_test_split(dev_test, test_size=0.5)\n",
    "train.shape, dev.shape, test.shape"
   ]
  },
  {
   "cell_type": "code",
   "execution_count": 83,
   "id": "0551bf55",
   "metadata": {
    "ExecuteTime": {
     "end_time": "2021-11-19T02:29:06.015357Z",
     "start_time": "2021-11-19T02:29:04.846597Z"
    }
   },
   "outputs": [],
   "source": [
    "train_list = []\n",
    "\n",
    "for row in train.iterrows(): \n",
    "    for aspect in aspects:\n",
    "        tmp_dict = {}\n",
    "        tmp_dict['id'] = row[1][0]\n",
    "        tmp_dict['attributes'] = attribute_dict[row[1][aspect_idx_dict[aspect]]]\n",
    "        tmp_dict['aspect'] = aspect \n",
    "        tmp_dict['text'] = row[1][1].replace('\\t',' ').replace('\\n',' ').replace('\\r',' ')\n",
    "        train_list.append(tmp_dict)\n",
    "train_out = pd.DataFrame(train_list)[['id','attributes','aspect','text']]\n",
    "    "
   ]
  },
  {
   "cell_type": "code",
   "execution_count": 84,
   "id": "de192f4a",
   "metadata": {
    "ExecuteTime": {
     "end_time": "2021-11-19T02:29:06.384189Z",
     "start_time": "2021-11-19T02:29:06.378161Z"
    }
   },
   "outputs": [
    {
     "data": {
      "text/plain": [
       "(38160, 4)"
      ]
     },
     "execution_count": 84,
     "metadata": {},
     "output_type": "execute_result"
    }
   ],
   "source": [
    "train_out.shape"
   ]
  },
  {
   "cell_type": "code",
   "execution_count": null,
   "id": "25824f70",
   "metadata": {},
   "outputs": [],
   "source": []
  },
  {
   "cell_type": "code",
   "execution_count": 85,
   "id": "ddbc707a",
   "metadata": {
    "ExecuteTime": {
     "end_time": "2021-11-19T02:29:18.784708Z",
     "start_time": "2021-11-19T02:29:18.692163Z"
    }
   },
   "outputs": [
    {
     "data": {
      "text/plain": [
       "(2128, 4)"
      ]
     },
     "execution_count": 85,
     "metadata": {},
     "output_type": "execute_result"
    }
   ],
   "source": [
    "dev_list = []\n",
    "\n",
    "for row in test.iterrows(): \n",
    "    for aspect in aspects:\n",
    "        tmp_dict = {}\n",
    "        tmp_dict['id'] = row[1][0]\n",
    "        tmp_dict['attributes'] = attribute_dict[row[1][aspect_idx_dict[aspect]]]\n",
    "        tmp_dict['aspect'] = aspect \n",
    "        tmp_dict['text'] = row[1][1].replace('\\t',' ').replace('\\n',' ').replace('\\r',' ')\n",
    "        dev_list.append(tmp_dict)\n",
    "dev_out = pd.DataFrame(dev_list)[['id','attributes','aspect','text']]\n",
    "dev_out.shape"
   ]
  },
  {
   "cell_type": "code",
   "execution_count": null,
   "id": "500bae1a",
   "metadata": {},
   "outputs": [],
   "source": []
  },
  {
   "cell_type": "code",
   "execution_count": null,
   "id": "414c0050",
   "metadata": {},
   "outputs": [],
   "source": []
  },
  {
   "cell_type": "code",
   "execution_count": 86,
   "id": "501cbe5e",
   "metadata": {
    "ExecuteTime": {
     "end_time": "2021-11-19T02:29:25.576825Z",
     "start_time": "2021-11-19T02:29:25.490128Z"
    }
   },
   "outputs": [
    {
     "data": {
      "text/plain": [
       "(2128, 4)"
      ]
     },
     "execution_count": 86,
     "metadata": {},
     "output_type": "execute_result"
    }
   ],
   "source": [
    "test_list = []\n",
    "\n",
    "for row in test.iterrows(): \n",
    "    for aspect in aspects:\n",
    "        tmp_dict = {}\n",
    "        tmp_dict['id'] = row[1][0]\n",
    "        tmp_dict['attributes'] = attribute_dict[row[1][aspect_idx_dict[aspect]]]\n",
    "        tmp_dict['aspect'] = aspect \n",
    "        tmp_dict['text'] = row[1][1].replace('\\t',' ').replace('\\n',' ').replace('\\r',' ')\n",
    "        test_list.append(tmp_dict)\n",
    "test_out = pd.DataFrame(test_list)[['id','attributes','aspect','text']]\n",
    "test_out.shape"
   ]
  },
  {
   "cell_type": "code",
   "execution_count": null,
   "id": "4d9542be",
   "metadata": {},
   "outputs": [],
   "source": []
  },
  {
   "cell_type": "code",
   "execution_count": 69,
   "id": "eb4fb3a0",
   "metadata": {
    "ExecuteTime": {
     "end_time": "2021-11-18T22:33:37.596843Z",
     "start_time": "2021-11-18T22:33:37.135482Z"
    }
   },
   "outputs": [],
   "source": [
    "train_out.to_csv(\"./data/train_NLI_M.csv\", sep='\\t', index=False, header=False)\n",
    "dev_out.to_csv(\"./data/test_NLI_M.csv\", sep='\\t', index=False, header=False)\n",
    "test_out.to_csv(\"./data/test_NLI_M.csv\", sep='\\t', index=False, header=False)"
   ]
  },
  {
   "cell_type": "code",
   "execution_count": 70,
   "id": "4d394de0",
   "metadata": {
    "ExecuteTime": {
     "end_time": "2021-11-18T22:33:37.609580Z",
     "start_time": "2021-11-18T22:33:37.600575Z"
    }
   },
   "outputs": [
    {
     "data": {
      "text/plain": [
       "'The sky in Wuhan on Friday is steel-grey, and it’s melancholy day after the death of a doctor who tried to warn of the virus that he died from. All the updates are on our live briefing, and I’ll be asking residents about the news. https://t.co/fkfIe3OoXH https://t.co/Yn9Ku0nm4H'"
      ]
     },
     "execution_count": 70,
     "metadata": {},
     "output_type": "execute_result"
    }
   ],
   "source": [
    "train_out.loc[28097]['text']"
   ]
  },
  {
   "cell_type": "code",
   "execution_count": null,
   "id": "b0d04aa7",
   "metadata": {},
   "outputs": [],
   "source": []
  },
  {
   "cell_type": "code",
   "execution_count": null,
   "id": "0d69f786",
   "metadata": {},
   "outputs": [],
   "source": []
  },
  {
   "cell_type": "code",
   "execution_count": null,
   "id": "f53ade6c",
   "metadata": {},
   "outputs": [],
   "source": []
  },
  {
   "cell_type": "code",
   "execution_count": null,
   "id": "fe34f29f",
   "metadata": {},
   "outputs": [],
   "source": []
  },
  {
   "cell_type": "code",
   "execution_count": null,
   "id": "68f6cf46",
   "metadata": {},
   "outputs": [],
   "source": []
  },
  {
   "cell_type": "code",
   "execution_count": null,
   "id": "fbd83dc2",
   "metadata": {},
   "outputs": [],
   "source": []
  },
  {
   "cell_type": "code",
   "execution_count": null,
   "id": "fff61d28",
   "metadata": {},
   "outputs": [],
   "source": []
  },
  {
   "cell_type": "code",
   "execution_count": null,
   "id": "0ebcc372",
   "metadata": {},
   "outputs": [],
   "source": []
  },
  {
   "cell_type": "code",
   "execution_count": null,
   "id": "62d0b19d",
   "metadata": {},
   "outputs": [],
   "source": []
  },
  {
   "cell_type": "code",
   "execution_count": null,
   "id": "19525dac",
   "metadata": {},
   "outputs": [],
   "source": []
  }
 ],
 "metadata": {
  "kernelspec": {
   "display_name": "Python 3 (ipykernel)",
   "language": "python",
   "name": "python3"
  },
  "language_info": {
   "codemirror_mode": {
    "name": "ipython",
    "version": 3
   },
   "file_extension": ".py",
   "mimetype": "text/x-python",
   "name": "python",
   "nbconvert_exporter": "python",
   "pygments_lexer": "ipython3",
   "version": "3.7.7"
  }
 },
 "nbformat": 4,
 "nbformat_minor": 5
}
