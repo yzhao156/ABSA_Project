{
 "cells": [
  {
   "cell_type": "code",
   "execution_count": 1,
   "id": "b50f1f7c",
   "metadata": {
    "ExecuteTime": {
     "end_time": "2021-11-18T02:42:18.961009Z",
     "start_time": "2021-11-18T02:42:17.733535Z"
    }
   },
   "outputs": [],
   "source": [
    "import pandas as pd"
   ]
  },
  {
   "cell_type": "code",
   "execution_count": 33,
   "id": "12036f3a",
   "metadata": {
    "ExecuteTime": {
     "end_time": "2021-11-18T02:55:22.550247Z",
     "start_time": "2021-11-18T02:55:22.481028Z"
    }
   },
   "outputs": [],
   "source": [
    "df_ = pd.read_csv(\"data_with_status_id_without_text.csv\")"
   ]
  },
  {
   "cell_type": "code",
   "execution_count": 40,
   "id": "4e004b90",
   "metadata": {
    "ExecuteTime": {
     "end_time": "2021-11-18T02:57:29.993960Z",
     "start_time": "2021-11-18T02:57:29.969729Z"
    }
   },
   "outputs": [
    {
     "data": {
      "text/html": [
       "<div>\n",
       "<style scoped>\n",
       "    .dataframe tbody tr th:only-of-type {\n",
       "        vertical-align: middle;\n",
       "    }\n",
       "\n",
       "    .dataframe tbody tr th {\n",
       "        vertical-align: top;\n",
       "    }\n",
       "\n",
       "    .dataframe thead th {\n",
       "        text-align: right;\n",
       "    }\n",
       "</style>\n",
       "<table border=\"1\" class=\"dataframe\">\n",
       "  <thead>\n",
       "    <tr style=\"text-align: right;\">\n",
       "      <th></th>\n",
       "      <th>id</th>\n",
       "      <th>politics</th>\n",
       "      <th>economy</th>\n",
       "      <th>foreign</th>\n",
       "      <th>culture</th>\n",
       "      <th>situation</th>\n",
       "      <th>measures</th>\n",
       "      <th>racism</th>\n",
       "      <th>overall</th>\n",
       "    </tr>\n",
       "  </thead>\n",
       "  <tbody>\n",
       "    <tr>\n",
       "      <th>0</th>\n",
       "      <td>1229076297340506112</td>\n",
       "      <td>0</td>\n",
       "      <td>0</td>\n",
       "      <td>0</td>\n",
       "      <td>0</td>\n",
       "      <td>0</td>\n",
       "      <td>0</td>\n",
       "      <td>0</td>\n",
       "      <td>0</td>\n",
       "    </tr>\n",
       "    <tr>\n",
       "      <th>1</th>\n",
       "      <td>1225885089583812608</td>\n",
       "      <td>0</td>\n",
       "      <td>0</td>\n",
       "      <td>0</td>\n",
       "      <td>0</td>\n",
       "      <td>0</td>\n",
       "      <td>0</td>\n",
       "      <td>0</td>\n",
       "      <td>1</td>\n",
       "    </tr>\n",
       "    <tr>\n",
       "      <th>2</th>\n",
       "      <td>1228087880699895808</td>\n",
       "      <td>0</td>\n",
       "      <td>0</td>\n",
       "      <td>0</td>\n",
       "      <td>0</td>\n",
       "      <td>1</td>\n",
       "      <td>0</td>\n",
       "      <td>0</td>\n",
       "      <td>1</td>\n",
       "    </tr>\n",
       "    <tr>\n",
       "      <th>3</th>\n",
       "      <td>1230198133893799936</td>\n",
       "      <td>0</td>\n",
       "      <td>0</td>\n",
       "      <td>0</td>\n",
       "      <td>0</td>\n",
       "      <td>0</td>\n",
       "      <td>0</td>\n",
       "      <td>0</td>\n",
       "      <td>2</td>\n",
       "    </tr>\n",
       "    <tr>\n",
       "      <th>4</th>\n",
       "      <td>1234022533739024384</td>\n",
       "      <td>0</td>\n",
       "      <td>0</td>\n",
       "      <td>0</td>\n",
       "      <td>0</td>\n",
       "      <td>0</td>\n",
       "      <td>2</td>\n",
       "      <td>0</td>\n",
       "      <td>2</td>\n",
       "    </tr>\n",
       "  </tbody>\n",
       "</table>\n",
       "</div>"
      ],
      "text/plain": [
       "                    id  politics  economy  foreign  culture  situation  \\\n",
       "0  1229076297340506112         0        0        0        0          0   \n",
       "1  1225885089583812608         0        0        0        0          0   \n",
       "2  1228087880699895808         0        0        0        0          1   \n",
       "3  1230198133893799936         0        0        0        0          0   \n",
       "4  1234022533739024384         0        0        0        0          0   \n",
       "\n",
       "   measures  racism  overall  \n",
       "0         0       0        0  \n",
       "1         0       0        1  \n",
       "2         0       0        1  \n",
       "3         0       0        2  \n",
       "4         2       0        2  "
      ]
     },
     "execution_count": 40,
     "metadata": {},
     "output_type": "execute_result"
    }
   ],
   "source": [
    "df_.rename(columns = {\"status_id\":\"id\"}, inplace=True)\n",
    "df_.head()"
   ]
  },
  {
   "cell_type": "code",
   "execution_count": 6,
   "id": "059550d9",
   "metadata": {
    "ExecuteTime": {
     "end_time": "2021-11-18T02:44:19.774920Z",
     "start_time": "2021-11-18T02:44:19.732647Z"
    }
   },
   "outputs": [],
   "source": [
    "df.to_csv(r'./ids.txt', header=None, index=None, sep='\\t', mode='a')"
   ]
  },
  {
   "cell_type": "code",
   "execution_count": 36,
   "id": "b55c1fa9",
   "metadata": {
    "ExecuteTime": {
     "end_time": "2021-11-18T02:55:50.578152Z",
     "start_time": "2021-11-18T02:55:50.387194Z"
    }
   },
   "outputs": [],
   "source": [
    "df = pd.read_csv(\"../ids.csv\")"
   ]
  },
  {
   "cell_type": "code",
   "execution_count": 37,
   "id": "981bbac8",
   "metadata": {
    "ExecuteTime": {
     "end_time": "2021-11-18T02:55:52.484079Z",
     "start_time": "2021-11-18T02:55:52.454460Z"
    }
   },
   "outputs": [
    {
     "data": {
      "text/plain": [
       "Index(['coordinates', 'created_at', 'hashtags', 'media', 'urls',\n",
       "       'favorite_count', 'id', 'in_reply_to_screen_name',\n",
       "       'in_reply_to_status_id', 'in_reply_to_user_id', 'lang', 'place',\n",
       "       'possibly_sensitive', 'quote_id', 'retweet_count', 'retweet_id',\n",
       "       'retweet_screen_name', 'source', 'text', 'tweet_url', 'user_created_at',\n",
       "       'user_id', 'user_default_profile_image', 'user_description',\n",
       "       'user_favourites_count', 'user_followers_count', 'user_friends_count',\n",
       "       'user_listed_count', 'user_location', 'user_name', 'user_screen_name',\n",
       "       'user_statuses_count', 'user_time_zone', 'user_urls', 'user_verified'],\n",
       "      dtype='object')"
      ]
     },
     "execution_count": 37,
     "metadata": {},
     "output_type": "execute_result"
    }
   ],
   "source": [
    "df.columns"
   ]
  },
  {
   "cell_type": "code",
   "execution_count": 42,
   "id": "038051ba",
   "metadata": {
    "ExecuteTime": {
     "end_time": "2021-11-18T04:13:17.216633Z",
     "start_time": "2021-11-18T04:13:16.812046Z"
    }
   },
   "outputs": [],
   "source": [
    "df_ = df[[\"id\", \"text\"]].merge(df_, on=\"id\")\n",
    "df_.to_csv(\"./covid.txt\")"
   ]
  },
  {
   "cell_type": "code",
   "execution_count": 14,
   "id": "bf0f3aea",
   "metadata": {
    "ExecuteTime": {
     "end_time": "2021-11-18T02:50:15.313555Z",
     "start_time": "2021-11-18T02:50:15.243990Z"
    }
   },
   "outputs": [
    {
     "data": {
      "text/plain": [
       "0       \"Every time we intubate a patient, we have no ...\n",
       "1       \"In 2003, we built Xiaotangshan Hospital in 7 ...\n",
       "2       \"Our nations should never allow China intrinsi...\n",
       "3       \"He's not dead. His hands and feet were still ...\n",
       "4       \"....disregarding the facts and becoming a par...\n",
       "5       \"Angolan Government seized properties held by ...\n",
       "6       \"Huawei is proven to have been cooperating wit...\n",
       "7       \"Mr. Xie claims that China responded to the co...\n",
       "8       \"I am so excited and nervous to see you guys s...\n",
       "9       \"It is becoming increasingly clear that restar...\n",
       "10      \"Texas Student May Have Wuhan Coronavirus, as ...\n",
       "11      \"In Hubei province, where the outbreak began, ...\n",
       "12      \"Coronavirus outbreak can go in any direction,...\n",
       "13      \"Some well-known universities have been caught...\n",
       "14      \"Across the board, everyone’s crime seemed to ...\n",
       "15      \"Save my life, doctor!\" Videos show how the co...\n",
       "16      \"Researchers have given a low estimate of 20,0...\n",
       "17      \"@Austynzogs: @Gidi_Traffic China is disinfect...\n",
       "18      \"The real push [against] hydroxychloroquine is...\n",
       "19      \"The #UAE has reported four #coronavirus cases...\n",
       "20      \"All the doors are barricaded...All the houses...\n",
       "21      \"It was too late. Outbreaks were already growi...\n",
       "22      \"Pandemic: China\" was such a blockbuster, the ...\n",
       "23      \"I'm not a virus. I'm a human. Eradicate the p...\n",
       "24      \"I gave my overseas friends all the passwords ...\n",
       "25      \"The case is in a male who's in his 50s, he ha...\n",
       "26      \"Japan and the US must work closely together t...\n",
       "27      \"Chinese government... has taken serious, vigo...\n",
       "28      \"Major airlines have suspended flights to &amp...\n",
       "29      \"Chinese mother granted emergency visa to visi...\n",
       "                              ...                        \n",
       "5271    📣 BLOG UPDATE: Wuhan novel coronavirus: what y...\n",
       "5272    ⚠️Breaking⚠️\\n\\n#Coronavirus death toll passes...\n",
       "5273    🇮🇩 Indonesians repatriated from China arrive h...\n",
       "5274    🔴 LIVE STREAM at 2pm ET on our front page: htt...\n",
       "5275    📌 CORONAVIRUS UPDATE\\n\\nDEATHS\\n\\n🇨🇳 China 26\\...\n",
       "5276    🎥 #MarketUpdate from @EBaker_TDAN\\n\\n▪️ Chines...\n",
       "5277    📌CORONAVIRUS UPDATE\\n\\nDEATHS\\n\\n🇨🇳 China 106\\...\n",
       "5278    🇨🇳@AmbCuiTiankai to 🇺🇸didn't deny #coronavirus...\n",
       "5279    🇨🇳 China hid Coronavirus spread by arresting b...\n",
       "5280    🇨🇳 #CHINA FEB. RETAIL PASSENGER CAR SALES -80%...\n",
       "5281    🚨BREAKING: #China says a flu drug approved in ...\n",
       "5282    ❣️Inner Child ranked 6th on Netease Cloud Musi...\n",
       "5283    🇦🇺/🇨🇳A video came out a few days ago. Suspicio...\n",
       "5284    📰”BTS's #Jungkook Chinese fans has donated mon...\n",
       "5285    🆘🆘19 Coronavirus Patents, Going back to the 80...\n",
       "5286    🌡#Health Coronavirus: countries evacuate citiz...\n",
       "5287    📌 CORONAVIRUS UPDATE\\n\\nDEATHS\\n\\n🇨🇳 China 41\\...\n",
       "5288    𝐁𝐞𝐥𝐨𝐧𝐠𝐖𝐢𝐭𝐡𝐉𝐮𝐧𝐠𝐰𝐨𝐨💖\\n\\n🤍 𝗜𝗻𝘀𝘁𝗮𝗴𝗿𝗮𝗺 𝗦𝘁𝗼𝗿𝘆 𝗔𝗱𝘀 🤍\\...\n",
       "5289    ✔He told us to protect our borders.\\n✔He told ...\n",
       "5290    【Taehyung’s Data in China】\\n\\n🍓Today’s Aiman C...\n",
       "5291    ⚠️WARNING: Graphic content\\n\\n#Wuhan Insider S...\n",
       "5292    🙄 Good try. Anyone \"terrified\" of climate chan...\n",
       "5293    🤔 China is not telling the truth. \\nDO NOT TUR...\n",
       "5294    🛑 New development from #China:\\nChina's #trade...\n",
       "5295    🚨BREAKING: in a highly unprecedented move, the...\n",
       "5296    🚨BREAKING: first human transmission of #corona...\n",
       "5297    🚨WOW: &gt;760 million people in #China—equalin...\n",
       "5298    🤔Could the #coronavirus turn back global warmi...\n",
       "5299    🚨SOON🚨\\n\\nSen. Rubio is joining @MariaBartirom...\n",
       "5300    🦠 This week’s coronavirus update\\n\\nVIRUS STIL...\n",
       "Name: text, Length: 5301, dtype: object"
      ]
     },
     "execution_count": 14,
     "metadata": {},
     "output_type": "execute_result"
    }
   ],
   "source": [
    "df = df.text"
   ]
  },
  {
   "cell_type": "code",
   "execution_count": 15,
   "id": "106213f8",
   "metadata": {
    "ExecuteTime": {
     "end_time": "2021-11-18T02:50:57.230702Z",
     "start_time": "2021-11-18T02:50:56.705302Z"
    }
   },
   "outputs": [],
   "source": [
    "df.to_csv(\"./ids_text.csv\")"
   ]
  },
  {
   "cell_type": "code",
   "execution_count": 18,
   "id": "f66305ad",
   "metadata": {
    "ExecuteTime": {
     "end_time": "2021-11-18T02:52:19.226965Z",
     "start_time": "2021-11-18T02:52:19.093379Z"
    }
   },
   "outputs": [],
   "source": [
    "df.text.to_csv(\"./ids_text2.csv\")"
   ]
  },
  {
   "cell_type": "code",
   "execution_count": 19,
   "id": "705696f9",
   "metadata": {
    "ExecuteTime": {
     "end_time": "2021-11-18T02:52:54.391673Z",
     "start_time": "2021-11-18T02:52:54.386370Z"
    }
   },
   "outputs": [],
   "source": [
    "df = df['text']"
   ]
  },
  {
   "cell_type": "code",
   "execution_count": 20,
   "id": "0dcfc2a7",
   "metadata": {
    "ExecuteTime": {
     "end_time": "2021-11-18T02:52:55.905362Z",
     "start_time": "2021-11-18T02:52:55.886489Z"
    }
   },
   "outputs": [
    {
     "data": {
      "text/plain": [
       "0       \"Every time we intubate a patient, we have no ...\n",
       "1       \"In 2003, we built Xiaotangshan Hospital in 7 ...\n",
       "2       \"Our nations should never allow China intrinsi...\n",
       "3       \"He's not dead. His hands and feet were still ...\n",
       "4       \"....disregarding the facts and becoming a par...\n",
       "5       \"Angolan Government seized properties held by ...\n",
       "6       \"Huawei is proven to have been cooperating wit...\n",
       "7       \"Mr. Xie claims that China responded to the co...\n",
       "8       \"I am so excited and nervous to see you guys s...\n",
       "9       \"It is becoming increasingly clear that restar...\n",
       "10      \"Texas Student May Have Wuhan Coronavirus, as ...\n",
       "11      \"In Hubei province, where the outbreak began, ...\n",
       "12      \"Coronavirus outbreak can go in any direction,...\n",
       "13      \"Some well-known universities have been caught...\n",
       "14      \"Across the board, everyone’s crime seemed to ...\n",
       "15      \"Save my life, doctor!\" Videos show how the co...\n",
       "16      \"Researchers have given a low estimate of 20,0...\n",
       "17      \"@Austynzogs: @Gidi_Traffic China is disinfect...\n",
       "18      \"The real push [against] hydroxychloroquine is...\n",
       "19      \"The #UAE has reported four #coronavirus cases...\n",
       "20      \"All the doors are barricaded...All the houses...\n",
       "21      \"It was too late. Outbreaks were already growi...\n",
       "22      \"Pandemic: China\" was such a blockbuster, the ...\n",
       "23      \"I'm not a virus. I'm a human. Eradicate the p...\n",
       "24      \"I gave my overseas friends all the passwords ...\n",
       "25      \"The case is in a male who's in his 50s, he ha...\n",
       "26      \"Japan and the US must work closely together t...\n",
       "27      \"Chinese government... has taken serious, vigo...\n",
       "28      \"Major airlines have suspended flights to &amp...\n",
       "29      \"Chinese mother granted emergency visa to visi...\n",
       "                              ...                        \n",
       "5271    📣 BLOG UPDATE: Wuhan novel coronavirus: what y...\n",
       "5272    ⚠️Breaking⚠️\\n\\n#Coronavirus death toll passes...\n",
       "5273    🇮🇩 Indonesians repatriated from China arrive h...\n",
       "5274    🔴 LIVE STREAM at 2pm ET on our front page: htt...\n",
       "5275    📌 CORONAVIRUS UPDATE\\n\\nDEATHS\\n\\n🇨🇳 China 26\\...\n",
       "5276    🎥 #MarketUpdate from @EBaker_TDAN\\n\\n▪️ Chines...\n",
       "5277    📌CORONAVIRUS UPDATE\\n\\nDEATHS\\n\\n🇨🇳 China 106\\...\n",
       "5278    🇨🇳@AmbCuiTiankai to 🇺🇸didn't deny #coronavirus...\n",
       "5279    🇨🇳 China hid Coronavirus spread by arresting b...\n",
       "5280    🇨🇳 #CHINA FEB. RETAIL PASSENGER CAR SALES -80%...\n",
       "5281    🚨BREAKING: #China says a flu drug approved in ...\n",
       "5282    ❣️Inner Child ranked 6th on Netease Cloud Musi...\n",
       "5283    🇦🇺/🇨🇳A video came out a few days ago. Suspicio...\n",
       "5284    📰”BTS's #Jungkook Chinese fans has donated mon...\n",
       "5285    🆘🆘19 Coronavirus Patents, Going back to the 80...\n",
       "5286    🌡#Health Coronavirus: countries evacuate citiz...\n",
       "5287    📌 CORONAVIRUS UPDATE\\n\\nDEATHS\\n\\n🇨🇳 China 41\\...\n",
       "5288    𝐁𝐞𝐥𝐨𝐧𝐠𝐖𝐢𝐭𝐡𝐉𝐮𝐧𝐠𝐰𝐨𝐨💖\\n\\n🤍 𝗜𝗻𝘀𝘁𝗮𝗴𝗿𝗮𝗺 𝗦𝘁𝗼𝗿𝘆 𝗔𝗱𝘀 🤍\\...\n",
       "5289    ✔He told us to protect our borders.\\n✔He told ...\n",
       "5290    【Taehyung’s Data in China】\\n\\n🍓Today’s Aiman C...\n",
       "5291    ⚠️WARNING: Graphic content\\n\\n#Wuhan Insider S...\n",
       "5292    🙄 Good try. Anyone \"terrified\" of climate chan...\n",
       "5293    🤔 China is not telling the truth. \\nDO NOT TUR...\n",
       "5294    🛑 New development from #China:\\nChina's #trade...\n",
       "5295    🚨BREAKING: in a highly unprecedented move, the...\n",
       "5296    🚨BREAKING: first human transmission of #corona...\n",
       "5297    🚨WOW: &gt;760 million people in #China—equalin...\n",
       "5298    🤔Could the #coronavirus turn back global warmi...\n",
       "5299    🚨SOON🚨\\n\\nSen. Rubio is joining @MariaBartirom...\n",
       "5300    🦠 This week’s coronavirus update\\n\\nVIRUS STIL...\n",
       "Name: text, Length: 5301, dtype: object"
      ]
     },
     "execution_count": 20,
     "metadata": {},
     "output_type": "execute_result"
    }
   ],
   "source": [
    "df\n"
   ]
  },
  {
   "cell_type": "code",
   "execution_count": 21,
   "id": "cd56f111",
   "metadata": {
    "ExecuteTime": {
     "end_time": "2021-11-18T02:53:01.342537Z",
     "start_time": "2021-11-18T02:53:01.330880Z"
    }
   },
   "outputs": [
    {
     "data": {
      "text/plain": [
       "(5301,)"
      ]
     },
     "execution_count": 21,
     "metadata": {},
     "output_type": "execute_result"
    }
   ],
   "source": [
    "df.shape"
   ]
  },
  {
   "cell_type": "code",
   "execution_count": 22,
   "id": "a7d3abb4",
   "metadata": {
    "ExecuteTime": {
     "end_time": "2021-11-18T02:53:12.852695Z",
     "start_time": "2021-11-18T02:53:12.808135Z"
    }
   },
   "outputs": [],
   "source": [
    "data = pd.read_csv(\"data_with_status_id_without_text.csv\")"
   ]
  },
  {
   "cell_type": "code",
   "execution_count": 28,
   "id": "22e03d1c",
   "metadata": {
    "ExecuteTime": {
     "end_time": "2021-11-18T02:54:23.335282Z",
     "start_time": "2021-11-18T02:54:23.322781Z"
    }
   },
   "outputs": [
    {
     "data": {
      "text/plain": [
       "(8019, 9)"
      ]
     },
     "execution_count": 28,
     "metadata": {},
     "output_type": "execute_result"
    }
   ],
   "source": [
    "data.shape"
   ]
  },
  {
   "cell_type": "code",
   "execution_count": null,
   "id": "ee50ee35",
   "metadata": {},
   "outputs": [],
   "source": []
  }
 ],
 "metadata": {
  "kernelspec": {
   "display_name": "Python 3 (ipykernel)",
   "language": "python",
   "name": "python3"
  },
  "language_info": {
   "codemirror_mode": {
    "name": "ipython",
    "version": 3
   },
   "file_extension": ".py",
   "mimetype": "text/x-python",
   "name": "python",
   "nbconvert_exporter": "python",
   "pygments_lexer": "ipython3",
   "version": "3.7.7"
  }
 },
 "nbformat": 4,
 "nbformat_minor": 5
}
